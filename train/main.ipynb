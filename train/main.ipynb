{
 "cells": [
  {
   "cell_type": "markdown",
   "id": "03763a45",
   "metadata": {},
   "source": [
    "### Importamos las dependencias que vamos a usar"
   ]
  },
  {
   "cell_type": "code",
   "execution_count": 2,
   "id": "8c188c32",
   "metadata": {},
   "outputs": [],
   "source": [
    "import pandas as pd\n",
    "import numpy as np\n",
    "from sklearn.linear_model import LinearRegression"
   ]
  },
  {
   "cell_type": "markdown",
   "id": "4c5d27cb",
   "metadata": {},
   "source": [
    "### Seleccionamos el Dataset"
   ]
  },
  {
   "cell_type": "code",
   "execution_count": 3,
   "id": "84d9310a",
   "metadata": {},
   "outputs": [
    {
     "data": {
      "text/plain": [
       "['track_id',\n",
       " 'track_name',\n",
       " 'track_artist',\n",
       " 'track_popularity',\n",
       " 'track_album_id',\n",
       " 'track_album_name',\n",
       " 'track_album_release_date',\n",
       " 'playlist_name',\n",
       " 'playlist_id',\n",
       " 'playlist_genre',\n",
       " 'playlist_subgenre',\n",
       " 'danceability',\n",
       " 'energy',\n",
       " 'key',\n",
       " 'loudness',\n",
       " 'mode',\n",
       " 'speechiness',\n",
       " 'acousticness',\n",
       " 'instrumentalness',\n",
       " 'liveness',\n",
       " 'valence',\n",
       " 'tempo',\n",
       " 'duration_ms']"
      ]
     },
     "execution_count": 3,
     "metadata": {},
     "output_type": "execute_result"
    }
   ],
   "source": [
    "df = pd.read_csv('spotify_songs.csv')\n",
    "df.head()\n",
    "df.columns.to_list()"
   ]
  }
 ],
 "metadata": {
  "kernelspec": {
   "display_name": "env",
   "language": "python",
   "name": "python3"
  },
  "language_info": {
   "codemirror_mode": {
    "name": "ipython",
    "version": 3
   },
   "file_extension": ".py",
   "mimetype": "text/x-python",
   "name": "python",
   "nbconvert_exporter": "python",
   "pygments_lexer": "ipython3",
   "version": "3.13.2"
  }
 },
 "nbformat": 4,
 "nbformat_minor": 5
}
